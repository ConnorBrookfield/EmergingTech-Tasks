{
 "cells": [
  {
   "cell_type": "markdown",
   "metadata": {},
   "source": [
    "# Chi Squared Test\n",
    "***Author*** - *Connor Brookfield (g00361129@gmit.ie)*\n",
    "\n",
    "This is my solution to the 2nd Task assignment: Verify (*using scipy.stats*) \n",
    "the chi-squared value, and p-value of the table below, so that it matches ***Chi-squared value = 24.6***; \n",
    "\n",
    "|                | A | B | C | D | Total |\n",
    "| :------------- | :----------: | :-----------: | :-------------: | :----------: | :-----------: |\n",
    "|  White Collar  | 90 | 60 | 104 | 95 | 349 |\n",
    "|  Blue Collar   | 30 | 50 | 51 | 20 | 151 |\n",
    "|  No Collar     | 30 | 40 | 45 | 35 | 150 |\n",
    "|      **Total** | **150** | **150** | **200** | **150** | **650** |\n",
    "\n",
    "**Figure [1]** - *Chi-squared test; Example chi-squared test for categorical data: https://en.wikipedia.org/wiki/Chi-squared_test#Example_chi-squared_test_for_categorical_data*\n",
    "\n",
    "***"
   ]
  },
  {
   "cell_type": "code",
   "execution_count": 1,
   "metadata": {},
   "outputs": [
    {
     "name": "stdout",
     "output_type": "stream",
     "text": [
      "Chi Squared value =  24.5712028585826\n",
      "P value =  0.0004098425861096696\n",
      "Expected Table Frequencies =  [[ 80.53846154  80.53846154 107.38461538  80.53846154]\n",
      " [ 34.84615385  34.84615385  46.46153846  34.84615385]\n",
      " [ 34.61538462  34.61538462  46.15384615  34.61538462]]\n"
     ]
    }
   ],
   "source": [
    "from scipy.stats import chi2_contingency\n",
    "chiSquaredValue, pValue, dof, expectedFreqs = chi2_contingency([[90,60,104,95],[30,50,51,20],[30,40,45,35]])\n",
    "\n",
    "print(\"Chi Squared value = \", chiSquaredValue)\n",
    "print(\"P value = \", pValue)\n",
    "print(\"Expected Table Frequencies = \", expectedFreqs)"
   ]
  },
  {
   "cell_type": "markdown",
   "metadata": {},
   "source": [
    "## Evaluation of the above code\n",
    "In the code cell above, I used the ```chi2_contingency``` function from *scipt.stats*, and input the table data as a 2D array, to calculate the Chi Squared value (***24.5712028585826***), the P value (***0.0004098425861096696***) and the expected frequencies of the table.\n",
    "\n",
    "The table of expected frequencies, is calculated using the total from a row, dividing it by the overall total of people, and multiplying it by the total of its relative collumn. \n",
    "\n",
    "## Example\n",
    "To get the expected frequency of the value of 90 (```row = \"White Collar\", collumn = \"A\"```), we must;\n",
    "    1. Get the Total value of the White Collar row from the table which is 349.\n",
    "    2. Get the Total value of all the rows, which is 650.\n",
    "    3. Divide the White Collar Total by the Total value of rows: 349/650\n",
    "    4. Multiply the value from Step 3 by the total value of the collumn \"A\" which is 150: 349/650 * 150 = 80.53846154"
   ]
  },
  {
   "cell_type": "markdown",
   "metadata": {},
   "source": [
    "## Conclusion\n",
    "To conclude this task, I would like to point out that the values from the Python script, and the value given from the Task Assignment document are the same."
   ]
  }
 ],
 "metadata": {
  "kernelspec": {
   "display_name": "Python 3",
   "language": "python",
   "name": "python3"
  },
  "language_info": {
   "codemirror_mode": {
    "name": "ipython",
    "version": 3
   },
   "file_extension": ".py",
   "mimetype": "text/x-python",
   "name": "python",
   "nbconvert_exporter": "python",
   "pygments_lexer": "ipython3",
   "version": "3.8.3"
  }
 },
 "nbformat": 4,
 "nbformat_minor": 4
}
