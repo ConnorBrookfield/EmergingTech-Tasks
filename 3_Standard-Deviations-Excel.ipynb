{
 "cells": [
  {
   "cell_type": "markdown",
   "metadata": {},
   "source": [
    "# Standard Deviation: The difference between the STDEV.S and STDEV.P functions in Excel\n",
    "\n",
    "***Author*** - *Connor Brookfield (g00361129@gmit.ie)*\n",
    "\n",
    "This is my solution to the 3rd Task assignment: \n",
    "*Outline the differences between the excel functions; STDEV.S and STDEV.P. Demonstarate that the function STDEV.S provides a better estimate calculation for the standard deviation of a population when performed on a sample.*\n",
    "\n",
    "***"
   ]
  },
  {
   "cell_type": "markdown",
   "metadata": {},
   "source": [
    "## STDEV.S\n"
   ]
  }
 ],
 "metadata": {
  "kernelspec": {
   "display_name": "Python 3",
   "language": "python",
   "name": "python3"
  },
  "language_info": {
   "codemirror_mode": {
    "name": "ipython",
    "version": 3
   },
   "file_extension": ".py",
   "mimetype": "text/x-python",
   "name": "python",
   "nbconvert_exporter": "python",
   "pygments_lexer": "ipython3",
   "version": "3.8.3"
  }
 },
 "nbformat": 4,
 "nbformat_minor": 4
}
