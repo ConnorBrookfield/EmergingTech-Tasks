{
 "cells": [
  {
   "cell_type": "markdown",
   "metadata": {},
   "source": [
    "***\n",
    "# Task 1: Square root of 2 \n",
    "***\n",
    "***Author*** - *Connor Brookfield (g00361129@gmit.ie)*\n",
    "\n",
    "This is my solution to the 1st Task assignment: Create a function to calculate the square root of 2. "
   ]
  },
  {
   "cell_type": "markdown",
   "metadata": {},
   "source": [
    "We can calculate the Square Root of a number using Newton's method for iterative approximation [1]. \n",
    "To find the square root $z$ of a number $x$, by iterating using the equation below. \n",
    "\n",
    "$$ z = z - \\frac{z^2 - x}{2z}$$"
   ]
  },
  {
   "cell_type": "code",
   "execution_count": 1,
   "metadata": {},
   "outputs": [],
   "source": [
    "def sqrt2():\n",
    "    '''\n",
    "    Function to calculate the square root of 2\n",
    "    '''\n",
    "    # Initial Square Root guess\n",
    "    X = 2\n",
    "    z = X / 2\n",
    "    \n",
    "    # Iterate to 100 decimal places\n",
    "    while abs(X - (z * z)) > 0.000001:\n",
    "        z -= (z*z - X) / (2 * z)\n",
    "    # Return the Approximate Square Root \n",
    "    return print(\"%.100f\" % z)"
   ]
  },
  {
   "cell_type": "code",
   "execution_count": 2,
   "metadata": {
    "scrolled": true
   },
   "outputs": [
    {
     "name": "stdout",
     "output_type": "stream",
     "text": [
      "1.4142135623746898698271934335934929549694061279296875000000000000000000000000000000000000000000000000\n"
     ]
    }
   ],
   "source": [
    "sqrt2()"
   ]
  },
  {
   "cell_type": "markdown",
   "metadata": {},
   "source": [
    "***\n",
    "# Task 2: Chi Squared Test\n",
    "***\n",
    "***Author*** - *Connor Brookfield (g00361129@gmit.ie)*\n",
    "\n",
    "This is my solution to the 2nd Task assignment: Verify (*using scipy.stats*) \n",
    "the chi-squared value, and p-value of the table below, so that it matches ***Chi-squared value = 24.6***; \n",
    "\n",
    "|                | A | B | C | D | Total |\n",
    "| :------------- | :----------: | :-----------: | :-------------: | :----------: | :-----------: |\n",
    "|  White Collar  | 90 | 60 | 104 | 95 | 349 |\n",
    "|  Blue Collar   | 30 | 50 | 51 | 20 | 151 |\n",
    "|  No Collar     | 30 | 40 | 45 | 35 | 150 |\n",
    "|      **Total** | **150** | **150** | **200** | **150** | **650** |\n",
    "                       \n",
    "                                                       Figure 1: [2]\n"
   ]
  },
  {
   "cell_type": "code",
   "execution_count": 17,
   "metadata": {},
   "outputs": [
    {
     "name": "stdout",
     "output_type": "stream",
     "text": [
      "Chi Squared value =  24.5712028585826\n",
      "P value =  0.0004098425861096696\n",
      "Expected Table Frequencies =  [[ 80.53846154  80.53846154 107.38461538  80.53846154]\n",
      " [ 34.84615385  34.84615385  46.46153846  34.84615385]\n",
      " [ 34.61538462  34.61538462  46.15384615  34.61538462]]\n"
     ]
    }
   ],
   "source": [
    "from scipy.stats import chi2_contingency\n",
    "chiSquaredValue, pValue, dof, expectedFreqs = chi2_contingency([[90,60,104,95],[30,50,51,20],[30,40,45,35]])\n",
    "\n",
    "print(\"Chi Squared value = \", chiSquaredValue)\n",
    "print(\"P value = \", pValue)\n",
    "print(\"Expected Table Frequencies = \", expectedFreqs)"
   ]
  },
  {
   "cell_type": "markdown",
   "metadata": {},
   "source": [
    "## Evaluation of the above code\n",
    "In the code cell above, I used the ```chi2_contingency``` function from *scipt.stats*, and input the table data as a 2D array, to calculate the Chi Squared value (***24.5712028585826***), the P value (***0.0004098425861096696***) and the expected frequencies of the table.\n",
    "\n",
    "The table of expected frequencies, is calculated using the total from a row, dividing it by the overall total of people, and multiplying it by the total of its relative collumn. \n",
    "\n",
    "## Example\n",
    "To get the expected frequency of the value of 90 (```row = \"White Collar\", collumn = \"A\"```), we must;\n",
    "    1. Get the Total value of the White Collar row from the table which is 349.\n",
    "    2. Get the Total value of all the rows, which is 650.\n",
    "    3. Divide the White Collar Total by the Total value of rows: 349/650\n",
    "    4. Multiply the value from Step 3 by the total value of the collumn \"A\" which is 150: 349/650 * 150 = 80.53846154\n",
    "    \n",
    "## Conclusion\n",
    "To conclude this task, I would like to point out that the values from the Python script, and the value given from the Task Assignment document are the same."
   ]
  },
  {
   "cell_type": "markdown",
   "metadata": {},
   "source": [
    "***\n",
    "# Task 3: Standard Deviation: The difference between the STDEV.S and STDEV.P functions in Excel\n",
    "***\n",
    "***Author*** - *Connor Brookfield (g00361129@gmit.ie)*\n",
    "\n",
    "This is my solution to the 3rd Task assignment: \n",
    "*Outline the differences between the excel functions; STDEV.S and STDEV.P. Demonstrate that the function STDEV.S provides a better estimate calculation for the standard deviation of a population when performed on a sample.*\n",
    "\n",
    "## STDEV.S vs STDEV.P\n",
    "STDEV.S is the excel function for getting the Standard deviation using a sample (subset) of a population, while STDEV.P is the function used for getting the Standard deviation using the whole population [3].\n",
    "\n",
    "Using the sample standard deviation formula to get the standard deviation of a population is different to using the population standard deviation formula  because it uses Bessel's correction to correct the bias when estimating the population variance [4]."
   ]
  },
  {
   "cell_type": "code",
   "execution_count": 16,
   "metadata": {},
   "outputs": [
    {
     "name": "stdout",
     "output_type": "stream",
     "text": [
      "STDEV.S (using sample) = 18.627041\n",
      "STDEV.P (using sample) = 17.004084\n",
      "Numpy (using population) = 18.433936\n"
     ]
    }
   ],
   "source": [
    "import numpy as np\n",
    "\n",
    "#Variables + Data\n",
    "population = [3,1,24,56,34,32,6,12,43,2]\n",
    "sample = [3,1,34,6,43,2]\n",
    "\n",
    "#STDEV.S, using a sample of the population data\n",
    "stdevS = np.sqrt(np.sum((sample - np.mean(sample)) ** 2)/(len(sample)-1))\n",
    "#STDEV.P, using a sample of the population data\n",
    "stdevP = np.sqrt(np.sum((sample - np.mean(sample)) ** 2)/len(sample))\n",
    "#Numpy standard deviation using all the population data\n",
    "numpyStd =np.std(population)\n",
    "\n",
    "#Outputting results\n",
    "print(\"STDEV.S (using sample) = %f\" % stdevS)\n",
    "print(\"STDEV.P (using sample) = %f\" % stdevP)\n",
    "print(\"Numpy (using population) = %f\" % numpyStd)"
   ]
  },
  {
   "cell_type": "markdown",
   "metadata": {},
   "source": [
    "## Evaluation\n",
    "As we can see from the above code, using the sample standard deviation formula provides a better estimate for the standard deviation when performed on a sample rather than the population standard deviation formula using sample data. This proves that Bessel's correction/bias shift makes the formula for calculating the standard deviation of a sample more accurate than the standard deviation of a population for a sample."
   ]
  },
  {
   "cell_type": "markdown",
   "metadata": {},
   "source": [
    "***\n",
    "# Task 4: Use scikit-learn to apply k-means clustering to Fisher’s famous Iris data set\n",
    "***\n",
    "***Author*** - *Connor Brookfield (g00361129@gmit.ie)*\n",
    "\n",
    "This is my solution to the 3rd Task assignment: \n",
    "*Use ```scikit-learn``` to apply k-means clustering to Fisher’s famous Iris data set.  You will easily obtain a copy of the dataset online.  Explain in a Markdown cell how your code works and how accurate it might be, and then explain how your model could be used to make predictions of species of iris.*"
   ]
  },
  {
   "cell_type": "code",
   "execution_count": 66,
   "metadata": {},
   "outputs": [
    {
     "output_type": "display_data",
     "data": {
      "text/plain": "<Figure size 432x288 with 1 Axes>",
      "image/svg+xml": "<?xml version=\"1.0\" encoding=\"utf-8\" standalone=\"no\"?>\r\n<!DOCTYPE svg PUBLIC \"-//W3C//DTD SVG 1.1//EN\"\r\n  \"http://www.w3.org/Graphics/SVG/1.1/DTD/svg11.dtd\">\r\n<!-- Created with matplotlib (https://matplotlib.org/) -->\r\n<svg height=\"248.518125pt\" version=\"1.1\" viewBox=\"0 0 377.518324 248.518125\" width=\"377.518324pt\" xmlns=\"http://www.w3.org/2000/svg\" xmlns:xlink=\"http://www.w3.org/1999/xlink\">\r\n <metadata>\r\n  <rdf:RDF xmlns:cc=\"http://creativecommons.org/ns#\" xmlns:dc=\"http://purl.org/dc/elements/1.1/\" xmlns:rdf=\"http://www.w3.org/1999/02/22-rdf-syntax-ns#\">\r\n   <cc:Work>\r\n    <dc:type rdf:resource=\"http://purl.org/dc/dcmitype/StillImage\"/>\r\n    <dc:date>2021-01-01T14:10:05.894302</dc:date>\r\n    <dc:format>image/svg+xml</dc:format>\r\n    <dc:creator>\r\n     <cc:Agent>\r\n      <dc:title>Matplotlib v3.3.2, https://matplotlib.org/</dc:title>\r\n     </cc:Agent>\r\n    </dc:creator>\r\n   </cc:Work>\r\n  </rdf:RDF>\r\n </metadata>\r\n <defs>\r\n  <style type=\"text/css\">*{stroke-linecap:butt;stroke-linejoin:round;}</style>\r\n </defs>\r\n <g id=\"figure_1\">\r\n  <g id=\"patch_1\">\r\n   <path d=\"M 0 248.518125 \r\nL 377.518324 248.518125 \r\nL 377.518324 0 \r\nL 0 0 \r\nz\r\n\" style=\"fill:none;\"/>\r\n  </g>\r\n  <g id=\"axes_1\">\r\n   <g id=\"patch_2\">\r\n    <path d=\"M 30.103125 224.64 \r\nL 364.903125 224.64 \r\nL 364.903125 7.2 \r\nL 30.103125 7.2 \r\nz\r\n\" style=\"fill:#ffffff;\"/>\r\n   </g>\r\n   <g id=\"PathCollection_1\">\r\n    <defs>\r\n     <path d=\"M 0 3 \r\nC 0.795609 3 1.55874 2.683901 2.12132 2.12132 \r\nC 2.683901 1.55874 3 0.795609 3 0 \r\nC 3 -0.795609 2.683901 -1.55874 2.12132 -2.12132 \r\nC 1.55874 -2.683901 0.795609 -3 0 -3 \r\nC -0.795609 -3 -1.55874 -2.683901 -2.12132 -2.12132 \r\nC -2.683901 -1.55874 -3 -0.795609 -3 0 \r\nC -3 0.795609 -2.683901 1.55874 -2.12132 2.12132 \r\nC -1.55874 2.683901 -0.795609 3 0 3 \r\nz\r\n\" id=\"m2ea8e970a9\" style=\"stroke:#000000;\"/>\r\n    </defs>\r\n    <g clip-path=\"url(#p1127d8361c)\">\r\n     <use style=\"fill:#ffff00;stroke:#000000;\" x=\"184.821307\" xlink:href=\"#m2ea8e970a9\" y=\"99.447273\"/>\r\n     <use style=\"fill:#ffff00;stroke:#000000;\" x=\"172.139489\" xlink:href=\"#m2ea8e970a9\" y=\"82.974545\"/>\r\n     <use style=\"fill:#ffff00;stroke:#000000;\" x=\"210.184943\" xlink:href=\"#m2ea8e970a9\" y=\"17.083636\"/>\r\n     <use style=\"fill:#ffff00;stroke:#000000;\" x=\"172.139489\" xlink:href=\"#m2ea8e970a9\" y=\"50.029091\"/>\r\n     <use style=\"fill:#ffff00;stroke:#000000;\" x=\"159.45767\" xlink:href=\"#m2ea8e970a9\" y=\"74.738182\"/>\r\n     <use style=\"fill:#ffff00;stroke:#000000;\" x=\"172.139489\" xlink:href=\"#m2ea8e970a9\" y=\"41.792727\"/>\r\n     <use style=\"fill:#ffff00;stroke:#000000;\" x=\"172.139489\" xlink:href=\"#m2ea8e970a9\" y=\"50.029091\"/>\r\n     <use style=\"fill:#ffff00;stroke:#000000;\" x=\"159.45767\" xlink:href=\"#m2ea8e970a9\" y=\"74.738182\"/>\r\n     <use style=\"fill:#ffff00;stroke:#000000;\" x=\"108.730398\" xlink:href=\"#m2ea8e970a9\" y=\"74.738182\"/>\r\n     <use style=\"fill:#ffff00;stroke:#000000;\" x=\"248.230398\" xlink:href=\"#m2ea8e970a9\" y=\"17.083636\"/>\r\n     <use style=\"fill:#ffff00;stroke:#000000;\" x=\"197.503125\" xlink:href=\"#m2ea8e970a9\" y=\"58.265455\"/>\r\n     <use style=\"fill:#ffff00;stroke:#000000;\" x=\"134.094034\" xlink:href=\"#m2ea8e970a9\" y=\"66.501818\"/>\r\n     <use style=\"fill:#ffff00;stroke:#000000;\" x=\"172.139489\" xlink:href=\"#m2ea8e970a9\" y=\"50.029091\"/>\r\n     <use style=\"fill:#ffff00;stroke:#000000;\" x=\"197.503125\" xlink:href=\"#m2ea8e970a9\" y=\"33.556364\"/>\r\n     <use style=\"fill:#ffff00;stroke:#000000;\" x=\"172.139489\" xlink:href=\"#m2ea8e970a9\" y=\"74.738182\"/>\r\n     <use style=\"fill:#ffff00;stroke:#000000;\" x=\"273.594034\" xlink:href=\"#m2ea8e970a9\" y=\"41.792727\"/>\r\n     <use style=\"fill:#ffff00;stroke:#000000;\" x=\"121.412216\" xlink:href=\"#m2ea8e970a9\" y=\"33.556364\"/>\r\n     <use style=\"fill:#ffff00;stroke:#000000;\" x=\"197.503125\" xlink:href=\"#m2ea8e970a9\" y=\"33.556364\"/>\r\n     <use style=\"fill:#ffff00;stroke:#000000;\" x=\"146.775852\" xlink:href=\"#m2ea8e970a9\" y=\"58.265455\"/>\r\n     <use style=\"fill:#ffff00;stroke:#000000;\" x=\"210.184943\" xlink:href=\"#m2ea8e970a9\" y=\"50.029091\"/>\r\n     <use style=\"fill:#ffff00;stroke:#000000;\" x=\"197.503125\" xlink:href=\"#m2ea8e970a9\" y=\"74.738182\"/>\r\n     <use style=\"fill:#ffff00;stroke:#000000;\" x=\"146.775852\" xlink:href=\"#m2ea8e970a9\" y=\"50.029091\"/>\r\n     <use style=\"fill:#ffff00;stroke:#000000;\" x=\"172.139489\" xlink:href=\"#m2ea8e970a9\" y=\"91.210909\"/>\r\n     <use style=\"fill:#ffff00;stroke:#000000;\" x=\"146.775852\" xlink:href=\"#m2ea8e970a9\" y=\"66.501818\"/>\r\n     <use style=\"fill:#ffff00;stroke:#000000;\" x=\"273.594034\" xlink:href=\"#m2ea8e970a9\" y=\"58.265455\"/>\r\n     <use style=\"fill:#ffff00;stroke:#000000;\" x=\"146.775852\" xlink:href=\"#m2ea8e970a9\" y=\"41.792727\"/>\r\n     <use style=\"fill:#ffff00;stroke:#000000;\" x=\"121.412216\" xlink:href=\"#m2ea8e970a9\" y=\"107.683636\"/>\r\n     <use style=\"fill:#ffff00;stroke:#000000;\" x=\"172.139489\" xlink:href=\"#m2ea8e970a9\" y=\"33.556364\"/>\r\n     <use style=\"fill:#ffff00;stroke:#000000;\" x=\"222.866761\" xlink:href=\"#m2ea8e970a9\" y=\"25.32\"/>\r\n     <use style=\"fill:#ffff00;stroke:#000000;\" x=\"184.821307\" xlink:href=\"#m2ea8e970a9\" y=\"74.738182\"/>\r\n     <use style=\"fill:#ffff00;stroke:#000000;\" x=\"184.821307\" xlink:href=\"#m2ea8e970a9\" y=\"50.029091\"/>\r\n     <use style=\"fill:#ffff00;stroke:#000000;\" x=\"184.821307\" xlink:href=\"#m2ea8e970a9\" y=\"25.32\"/>\r\n     <use style=\"fill:#ffff00;stroke:#000000;\" x=\"184.821307\" xlink:href=\"#m2ea8e970a9\" y=\"33.556364\"/>\r\n     <use style=\"fill:#ffff00;stroke:#000000;\" x=\"197.503125\" xlink:href=\"#m2ea8e970a9\" y=\"33.556364\"/>\r\n     <use style=\"fill:#ffff00;stroke:#000000;\" x=\"210.184943\" xlink:href=\"#m2ea8e970a9\" y=\"17.083636\"/>\r\n     <use style=\"fill:#ffff00;stroke:#000000;\" x=\"172.139489\" xlink:href=\"#m2ea8e970a9\" y=\"33.556364\"/>\r\n     <use style=\"fill:#ffff00;stroke:#000000;\" x=\"172.139489\" xlink:href=\"#m2ea8e970a9\" y=\"58.265455\"/>\r\n     <use style=\"fill:#ffff00;stroke:#000000;\" x=\"222.866761\" xlink:href=\"#m2ea8e970a9\" y=\"33.556364\"/>\r\n    </g>\r\n   </g>\r\n   <g id=\"PathCollection_2\">\r\n    <defs>\r\n     <path d=\"M 0 3 \r\nC 0.795609 3 1.55874 2.683901 2.12132 2.12132 \r\nC 2.683901 1.55874 3 0.795609 3 0 \r\nC 3 -0.795609 2.683901 -1.55874 2.12132 -2.12132 \r\nC 1.55874 -2.683901 0.795609 -3 0 -3 \r\nC -0.795609 -3 -1.55874 -2.683901 -2.12132 -2.12132 \r\nC -2.683901 -1.55874 -3 -0.795609 -3 0 \r\nC -3 0.795609 -2.683901 1.55874 -2.12132 2.12132 \r\nC -1.55874 2.683901 -0.795609 3 0 3 \r\nz\r\n\" id=\"m98b0997ca0\" style=\"stroke:#000000;\"/>\r\n    </defs>\r\n    <g clip-path=\"url(#p1127d8361c)\">\r\n     <use style=\"fill:#0000ff;stroke:#000000;\" x=\"235.54858\" xlink:href=\"#m98b0997ca0\" y=\"206.52\"/>\r\n     <use style=\"fill:#0000ff;stroke:#000000;\" x=\"172.139489\" xlink:href=\"#m98b0997ca0\" y=\"206.52\"/>\r\n     <use style=\"fill:#0000ff;stroke:#000000;\" x=\"197.503125\" xlink:href=\"#m98b0997ca0\" y=\"206.52\"/>\r\n     <use style=\"fill:#0000ff;stroke:#000000;\" x=\"184.821307\" xlink:href=\"#m98b0997ca0\" y=\"206.52\"/>\r\n     <use style=\"fill:#0000ff;stroke:#000000;\" x=\"248.230398\" xlink:href=\"#m98b0997ca0\" y=\"206.52\"/>\r\n     <use style=\"fill:#0000ff;stroke:#000000;\" x=\"286.275852\" xlink:href=\"#m98b0997ca0\" y=\"190.047273\"/>\r\n     <use style=\"fill:#0000ff;stroke:#000000;\" x=\"222.866761\" xlink:href=\"#m98b0997ca0\" y=\"198.283636\"/>\r\n     <use style=\"fill:#0000ff;stroke:#000000;\" x=\"222.866761\" xlink:href=\"#m98b0997ca0\" y=\"206.52\"/>\r\n     <use style=\"fill:#0000ff;stroke:#000000;\" x=\"159.45767\" xlink:href=\"#m98b0997ca0\" y=\"206.52\"/>\r\n     <use style=\"fill:#0000ff;stroke:#000000;\" x=\"184.821307\" xlink:href=\"#m98b0997ca0\" y=\"214.756364\"/>\r\n     <use style=\"fill:#0000ff;stroke:#000000;\" x=\"260.912216\" xlink:href=\"#m98b0997ca0\" y=\"206.52\"/>\r\n     <use style=\"fill:#0000ff;stroke:#000000;\" x=\"222.866761\" xlink:href=\"#m98b0997ca0\" y=\"206.52\"/>\r\n     <use style=\"fill:#0000ff;stroke:#000000;\" x=\"172.139489\" xlink:href=\"#m98b0997ca0\" y=\"214.756364\"/>\r\n     <use style=\"fill:#0000ff;stroke:#000000;\" x=\"172.139489\" xlink:href=\"#m98b0997ca0\" y=\"214.756364\"/>\r\n     <use style=\"fill:#0000ff;stroke:#000000;\" x=\"298.95767\" xlink:href=\"#m98b0997ca0\" y=\"206.52\"/>\r\n     <use style=\"fill:#0000ff;stroke:#000000;\" x=\"349.684943\" xlink:href=\"#m98b0997ca0\" y=\"190.047273\"/>\r\n     <use style=\"fill:#0000ff;stroke:#000000;\" x=\"286.275852\" xlink:href=\"#m98b0997ca0\" y=\"190.047273\"/>\r\n     <use style=\"fill:#0000ff;stroke:#000000;\" x=\"235.54858\" xlink:href=\"#m98b0997ca0\" y=\"198.283636\"/>\r\n     <use style=\"fill:#0000ff;stroke:#000000;\" x=\"273.594034\" xlink:href=\"#m98b0997ca0\" y=\"198.283636\"/>\r\n     <use style=\"fill:#0000ff;stroke:#000000;\" x=\"273.594034\" xlink:href=\"#m98b0997ca0\" y=\"198.283636\"/>\r\n     <use style=\"fill:#0000ff;stroke:#000000;\" x=\"222.866761\" xlink:href=\"#m98b0997ca0\" y=\"206.52\"/>\r\n     <use style=\"fill:#0000ff;stroke:#000000;\" x=\"260.912216\" xlink:href=\"#m98b0997ca0\" y=\"190.047273\"/>\r\n     <use style=\"fill:#0000ff;stroke:#000000;\" x=\"248.230398\" xlink:href=\"#m98b0997ca0\" y=\"206.52\"/>\r\n     <use style=\"fill:#0000ff;stroke:#000000;\" x=\"210.184943\" xlink:href=\"#m98b0997ca0\" y=\"181.810909\"/>\r\n     <use style=\"fill:#0000ff;stroke:#000000;\" x=\"222.866761\" xlink:href=\"#m98b0997ca0\" y=\"206.52\"/>\r\n     <use style=\"fill:#0000ff;stroke:#000000;\" x=\"172.139489\" xlink:href=\"#m98b0997ca0\" y=\"206.52\"/>\r\n     <use style=\"fill:#0000ff;stroke:#000000;\" x=\"222.866761\" xlink:href=\"#m98b0997ca0\" y=\"190.047273\"/>\r\n     <use style=\"fill:#0000ff;stroke:#000000;\" x=\"235.54858\" xlink:href=\"#m98b0997ca0\" y=\"206.52\"/>\r\n     <use style=\"fill:#0000ff;stroke:#000000;\" x=\"222.866761\" xlink:href=\"#m98b0997ca0\" y=\"206.52\"/>\r\n     <use style=\"fill:#0000ff;stroke:#000000;\" x=\"197.503125\" xlink:href=\"#m98b0997ca0\" y=\"206.52\"/>\r\n     <use style=\"fill:#0000ff;stroke:#000000;\" x=\"184.821307\" xlink:href=\"#m98b0997ca0\" y=\"206.52\"/>\r\n     <use style=\"fill:#0000ff;stroke:#000000;\" x=\"222.866761\" xlink:href=\"#m98b0997ca0\" y=\"190.047273\"/>\r\n     <use style=\"fill:#0000ff;stroke:#000000;\" x=\"311.639489\" xlink:href=\"#m98b0997ca0\" y=\"214.756364\"/>\r\n     <use style=\"fill:#0000ff;stroke:#000000;\" x=\"324.321307\" xlink:href=\"#m98b0997ca0\" y=\"206.52\"/>\r\n     <use style=\"fill:#0000ff;stroke:#000000;\" x=\"184.821307\" xlink:href=\"#m98b0997ca0\" y=\"206.52\"/>\r\n     <use style=\"fill:#0000ff;stroke:#000000;\" x=\"197.503125\" xlink:href=\"#m98b0997ca0\" y=\"206.52\"/>\r\n     <use style=\"fill:#0000ff;stroke:#000000;\" x=\"235.54858\" xlink:href=\"#m98b0997ca0\" y=\"206.52\"/>\r\n     <use style=\"fill:#0000ff;stroke:#000000;\" x=\"248.230398\" xlink:href=\"#m98b0997ca0\" y=\"214.756364\"/>\r\n     <use style=\"fill:#0000ff;stroke:#000000;\" x=\"172.139489\" xlink:href=\"#m98b0997ca0\" y=\"206.52\"/>\r\n     <use style=\"fill:#0000ff;stroke:#000000;\" x=\"222.866761\" xlink:href=\"#m98b0997ca0\" y=\"206.52\"/>\r\n     <use style=\"fill:#0000ff;stroke:#000000;\" x=\"235.54858\" xlink:href=\"#m98b0997ca0\" y=\"198.283636\"/>\r\n     <use style=\"fill:#0000ff;stroke:#000000;\" x=\"83.366761\" xlink:href=\"#m98b0997ca0\" y=\"198.283636\"/>\r\n     <use style=\"fill:#0000ff;stroke:#000000;\" x=\"197.503125\" xlink:href=\"#m98b0997ca0\" y=\"206.52\"/>\r\n     <use style=\"fill:#0000ff;stroke:#000000;\" x=\"235.54858\" xlink:href=\"#m98b0997ca0\" y=\"173.574545\"/>\r\n     <use style=\"fill:#0000ff;stroke:#000000;\" x=\"273.594034\" xlink:href=\"#m98b0997ca0\" y=\"190.047273\"/>\r\n     <use style=\"fill:#0000ff;stroke:#000000;\" x=\"172.139489\" xlink:href=\"#m98b0997ca0\" y=\"198.283636\"/>\r\n     <use style=\"fill:#0000ff;stroke:#000000;\" x=\"273.594034\" xlink:href=\"#m98b0997ca0\" y=\"206.52\"/>\r\n     <use style=\"fill:#0000ff;stroke:#000000;\" x=\"197.503125\" xlink:href=\"#m98b0997ca0\" y=\"206.52\"/>\r\n     <use style=\"fill:#0000ff;stroke:#000000;\" x=\"260.912216\" xlink:href=\"#m98b0997ca0\" y=\"206.52\"/>\r\n     <use style=\"fill:#0000ff;stroke:#000000;\" x=\"210.184943\" xlink:href=\"#m98b0997ca0\" y=\"206.52\"/>\r\n    </g>\r\n   </g>\r\n   <g id=\"PathCollection_3\">\r\n    <defs>\r\n     <path d=\"M 0 3 \r\nC 0.795609 3 1.55874 2.683901 2.12132 2.12132 \r\nC 2.683901 1.55874 3 0.795609 3 0 \r\nC 3 -0.795609 2.683901 -1.55874 2.12132 -2.12132 \r\nC 1.55874 -2.683901 0.795609 -3 0 -3 \r\nC -0.795609 -3 -1.55874 -2.683901 -2.12132 -2.12132 \r\nC -2.683901 -1.55874 -3 -0.795609 -3 0 \r\nC -3 0.795609 -2.683901 1.55874 -2.12132 2.12132 \r\nC -1.55874 2.683901 -0.795609 3 0 3 \r\nz\r\n\" id=\"mcccb06d029\" style=\"stroke:#000000;\"/>\r\n    </defs>\r\n    <g clip-path=\"url(#p1127d8361c)\">\r\n     <use style=\"fill:#008000;stroke:#000000;\" x=\"197.503125\" xlink:href=\"#mcccb06d029\" y=\"107.683636\"/>\r\n     <use style=\"fill:#008000;stroke:#000000;\" x=\"197.503125\" xlink:href=\"#mcccb06d029\" y=\"99.447273\"/>\r\n     <use style=\"fill:#008000;stroke:#000000;\" x=\"83.366761\" xlink:href=\"#mcccb06d029\" y=\"115.92\"/>\r\n     <use style=\"fill:#008000;stroke:#000000;\" x=\"146.775852\" xlink:href=\"#mcccb06d029\" y=\"99.447273\"/>\r\n     <use style=\"fill:#008000;stroke:#000000;\" x=\"146.775852\" xlink:href=\"#mcccb06d029\" y=\"115.92\"/>\r\n     <use style=\"fill:#008000;stroke:#000000;\" x=\"210.184943\" xlink:href=\"#mcccb06d029\" y=\"91.210909\"/>\r\n     <use style=\"fill:#008000;stroke:#000000;\" x=\"96.04858\" xlink:href=\"#mcccb06d029\" y=\"140.629091\"/>\r\n     <use style=\"fill:#008000;stroke:#000000;\" x=\"159.45767\" xlink:href=\"#mcccb06d029\" y=\"115.92\"/>\r\n     <use style=\"fill:#008000;stroke:#000000;\" x=\"134.094034\" xlink:href=\"#mcccb06d029\" y=\"107.683636\"/>\r\n     <use style=\"fill:#008000;stroke:#000000;\" x=\"45.321307\" xlink:href=\"#mcccb06d029\" y=\"140.629091\"/>\r\n     <use style=\"fill:#008000;stroke:#000000;\" x=\"172.139489\" xlink:href=\"#mcccb06d029\" y=\"99.447273\"/>\r\n     <use style=\"fill:#008000;stroke:#000000;\" x=\"70.684943\" xlink:href=\"#mcccb06d029\" y=\"140.629091\"/>\r\n     <use style=\"fill:#008000;stroke:#000000;\" x=\"159.45767\" xlink:href=\"#mcccb06d029\" y=\"107.683636\"/>\r\n     <use style=\"fill:#008000;stroke:#000000;\" x=\"159.45767\" xlink:href=\"#mcccb06d029\" y=\"115.92\"/>\r\n     <use style=\"fill:#008000;stroke:#000000;\" x=\"184.821307\" xlink:href=\"#mcccb06d029\" y=\"107.683636\"/>\r\n     <use style=\"fill:#008000;stroke:#000000;\" x=\"172.139489\" xlink:href=\"#mcccb06d029\" y=\"99.447273\"/>\r\n     <use style=\"fill:#008000;stroke:#000000;\" x=\"134.094034\" xlink:href=\"#mcccb06d029\" y=\"140.629091\"/>\r\n     <use style=\"fill:#008000;stroke:#000000;\" x=\"70.684943\" xlink:href=\"#mcccb06d029\" y=\"99.447273\"/>\r\n     <use style=\"fill:#008000;stroke:#000000;\" x=\"108.730398\" xlink:href=\"#mcccb06d029\" y=\"132.392727\"/>\r\n     <use style=\"fill:#008000;stroke:#000000;\" x=\"197.503125\" xlink:href=\"#mcccb06d029\" y=\"74.738182\"/>\r\n     <use style=\"fill:#008000;stroke:#000000;\" x=\"146.775852\" xlink:href=\"#mcccb06d029\" y=\"115.92\"/>\r\n     <use style=\"fill:#008000;stroke:#000000;\" x=\"108.730398\" xlink:href=\"#mcccb06d029\" y=\"99.447273\"/>\r\n     <use style=\"fill:#008000;stroke:#000000;\" x=\"146.775852\" xlink:href=\"#mcccb06d029\" y=\"124.156364\"/>\r\n     <use style=\"fill:#008000;stroke:#000000;\" x=\"159.45767\" xlink:href=\"#mcccb06d029\" y=\"115.92\"/>\r\n     <use style=\"fill:#008000;stroke:#000000;\" x=\"172.139489\" xlink:href=\"#mcccb06d029\" y=\"107.683636\"/>\r\n     <use style=\"fill:#008000;stroke:#000000;\" x=\"146.775852\" xlink:href=\"#mcccb06d029\" y=\"107.683636\"/>\r\n     <use style=\"fill:#008000;stroke:#000000;\" x=\"159.45767\" xlink:href=\"#mcccb06d029\" y=\"99.447273\"/>\r\n     <use style=\"fill:#008000;stroke:#000000;\" x=\"121.412216\" xlink:href=\"#mcccb06d029\" y=\"140.629091\"/>\r\n     <use style=\"fill:#008000;stroke:#000000;\" x=\"96.04858\" xlink:href=\"#mcccb06d029\" y=\"132.392727\"/>\r\n     <use style=\"fill:#008000;stroke:#000000;\" x=\"96.04858\" xlink:href=\"#mcccb06d029\" y=\"140.629091\"/>\r\n     <use style=\"fill:#008000;stroke:#000000;\" x=\"134.094034\" xlink:href=\"#mcccb06d029\" y=\"124.156364\"/>\r\n     <use style=\"fill:#008000;stroke:#000000;\" x=\"134.094034\" xlink:href=\"#mcccb06d029\" y=\"91.210909\"/>\r\n     <use style=\"fill:#008000;stroke:#000000;\" x=\"172.139489\" xlink:href=\"#mcccb06d029\" y=\"99.447273\"/>\r\n     <use style=\"fill:#008000;stroke:#000000;\" x=\"222.866761\" xlink:href=\"#mcccb06d029\" y=\"91.210909\"/>\r\n     <use style=\"fill:#008000;stroke:#000000;\" x=\"184.821307\" xlink:href=\"#mcccb06d029\" y=\"99.447273\"/>\r\n     <use style=\"fill:#008000;stroke:#000000;\" x=\"83.366761\" xlink:href=\"#mcccb06d029\" y=\"115.92\"/>\r\n     <use style=\"fill:#008000;stroke:#000000;\" x=\"172.139489\" xlink:href=\"#mcccb06d029\" y=\"115.92\"/>\r\n     <use style=\"fill:#008000;stroke:#000000;\" x=\"108.730398\" xlink:href=\"#mcccb06d029\" y=\"115.92\"/>\r\n     <use style=\"fill:#008000;stroke:#000000;\" x=\"121.412216\" xlink:href=\"#mcccb06d029\" y=\"124.156364\"/>\r\n     <use style=\"fill:#008000;stroke:#000000;\" x=\"172.139489\" xlink:href=\"#mcccb06d029\" y=\"107.683636\"/>\r\n     <use style=\"fill:#008000;stroke:#000000;\" x=\"121.412216\" xlink:href=\"#mcccb06d029\" y=\"124.156364\"/>\r\n     <use style=\"fill:#008000;stroke:#000000;\" x=\"83.366761\" xlink:href=\"#mcccb06d029\" y=\"140.629091\"/>\r\n     <use style=\"fill:#008000;stroke:#000000;\" x=\"134.094034\" xlink:href=\"#mcccb06d029\" y=\"115.92\"/>\r\n     <use style=\"fill:#008000;stroke:#000000;\" x=\"172.139489\" xlink:href=\"#mcccb06d029\" y=\"124.156364\"/>\r\n     <use style=\"fill:#008000;stroke:#000000;\" x=\"159.45767\" xlink:href=\"#mcccb06d029\" y=\"115.92\"/>\r\n     <use style=\"fill:#008000;stroke:#000000;\" x=\"159.45767\" xlink:href=\"#mcccb06d029\" y=\"115.92\"/>\r\n     <use style=\"fill:#008000;stroke:#000000;\" x=\"108.730398\" xlink:href=\"#mcccb06d029\" y=\"132.392727\"/>\r\n     <use style=\"fill:#008000;stroke:#000000;\" x=\"146.775852\" xlink:href=\"#mcccb06d029\" y=\"115.92\"/>\r\n     <use style=\"fill:#008000;stroke:#000000;\" x=\"134.094034\" xlink:href=\"#mcccb06d029\" y=\"66.501818\"/>\r\n     <use style=\"fill:#008000;stroke:#000000;\" x=\"108.730398\" xlink:href=\"#mcccb06d029\" y=\"82.974545\"/>\r\n     <use style=\"fill:#008000;stroke:#000000;\" x=\"108.730398\" xlink:href=\"#mcccb06d029\" y=\"58.265455\"/>\r\n     <use style=\"fill:#008000;stroke:#000000;\" x=\"146.775852\" xlink:href=\"#mcccb06d029\" y=\"25.32\"/>\r\n     <use style=\"fill:#008000;stroke:#000000;\" x=\"70.684943\" xlink:href=\"#mcccb06d029\" y=\"99.447273\"/>\r\n     <use style=\"fill:#008000;stroke:#000000;\" x=\"146.775852\" xlink:href=\"#mcccb06d029\" y=\"58.265455\"/>\r\n     <use style=\"fill:#008000;stroke:#000000;\" x=\"134.094034\" xlink:href=\"#mcccb06d029\" y=\"74.738182\"/>\r\n     <use style=\"fill:#008000;stroke:#000000;\" x=\"146.775852\" xlink:href=\"#mcccb06d029\" y=\"74.738182\"/>\r\n     <use style=\"fill:#008000;stroke:#000000;\" x=\"172.139489\" xlink:href=\"#mcccb06d029\" y=\"74.738182\"/>\r\n     <use style=\"fill:#008000;stroke:#000000;\" x=\"146.775852\" xlink:href=\"#mcccb06d029\" y=\"99.447273\"/>\r\n     <use style=\"fill:#008000;stroke:#000000;\" x=\"172.139489\" xlink:href=\"#mcccb06d029\" y=\"74.738182\"/>\r\n     <use style=\"fill:#008000;stroke:#000000;\" x=\"134.094034\" xlink:href=\"#mcccb06d029\" y=\"66.501818\"/>\r\n     <use style=\"fill:#008000;stroke:#000000;\" x=\"108.730398\" xlink:href=\"#mcccb06d029\" y=\"66.501818\"/>\r\n     <use style=\"fill:#008000;stroke:#000000;\" x=\"172.139489\" xlink:href=\"#mcccb06d029\" y=\"74.738182\"/>\r\n    </g>\r\n   </g>\r\n   <g id=\"matplotlib.axis_1\">\r\n    <g id=\"xtick_1\">\r\n     <g id=\"line2d_1\">\r\n      <path clip-path=\"url(#p1127d8361c)\" d=\"M 45.321307 224.64 \r\nL 45.321307 7.2 \r\n\" style=\"fill:none;stroke:#b0b0b0;stroke-linecap:square;stroke-width:0.8;\"/>\r\n     </g>\r\n     <g id=\"line2d_2\">\r\n      <defs>\r\n       <path d=\"M 0 0 \r\nL 0 3.5 \r\n\" id=\"mbb3fba5126\" style=\"stroke:#000000;stroke-width:0.8;\"/>\r\n      </defs>\r\n      <g>\r\n       <use style=\"stroke:#000000;stroke-width:0.8;\" x=\"45.321307\" xlink:href=\"#mbb3fba5126\" y=\"224.64\"/>\r\n      </g>\r\n     </g>\r\n     <g id=\"text_1\">\r\n      <!-- 2.0 -->\r\n      <g transform=\"translate(37.369744 239.238437)scale(0.1 -0.1)\">\r\n       <defs>\r\n        <path d=\"M 19.1875 8.296875 \r\nL 53.609375 8.296875 \r\nL 53.609375 0 \r\nL 7.328125 0 \r\nL 7.328125 8.296875 \r\nQ 12.9375 14.109375 22.625 23.890625 \r\nQ 32.328125 33.6875 34.8125 36.53125 \r\nQ 39.546875 41.84375 41.421875 45.53125 \r\nQ 43.3125 49.21875 43.3125 52.78125 \r\nQ 43.3125 58.59375 39.234375 62.25 \r\nQ 35.15625 65.921875 28.609375 65.921875 \r\nQ 23.96875 65.921875 18.8125 64.3125 \r\nQ 13.671875 62.703125 7.8125 59.421875 \r\nL 7.8125 69.390625 \r\nQ 13.765625 71.78125 18.9375 73 \r\nQ 24.125 74.21875 28.421875 74.21875 \r\nQ 39.75 74.21875 46.484375 68.546875 \r\nQ 53.21875 62.890625 53.21875 53.421875 \r\nQ 53.21875 48.921875 51.53125 44.890625 \r\nQ 49.859375 40.875 45.40625 35.40625 \r\nQ 44.1875 33.984375 37.640625 27.21875 \r\nQ 31.109375 20.453125 19.1875 8.296875 \r\nz\r\n\" id=\"DejaVuSans-50\"/>\r\n        <path d=\"M 10.6875 12.40625 \r\nL 21 12.40625 \r\nL 21 0 \r\nL 10.6875 0 \r\nz\r\n\" id=\"DejaVuSans-46\"/>\r\n        <path d=\"M 31.78125 66.40625 \r\nQ 24.171875 66.40625 20.328125 58.90625 \r\nQ 16.5 51.421875 16.5 36.375 \r\nQ 16.5 21.390625 20.328125 13.890625 \r\nQ 24.171875 6.390625 31.78125 6.390625 \r\nQ 39.453125 6.390625 43.28125 13.890625 \r\nQ 47.125 21.390625 47.125 36.375 \r\nQ 47.125 51.421875 43.28125 58.90625 \r\nQ 39.453125 66.40625 31.78125 66.40625 \r\nz\r\nM 31.78125 74.21875 \r\nQ 44.046875 74.21875 50.515625 64.515625 \r\nQ 56.984375 54.828125 56.984375 36.375 \r\nQ 56.984375 17.96875 50.515625 8.265625 \r\nQ 44.046875 -1.421875 31.78125 -1.421875 \r\nQ 19.53125 -1.421875 13.0625 8.265625 \r\nQ 6.59375 17.96875 6.59375 36.375 \r\nQ 6.59375 54.828125 13.0625 64.515625 \r\nQ 19.53125 74.21875 31.78125 74.21875 \r\nz\r\n\" id=\"DejaVuSans-48\"/>\r\n       </defs>\r\n       <use xlink:href=\"#DejaVuSans-50\"/>\r\n       <use x=\"63.623047\" xlink:href=\"#DejaVuSans-46\"/>\r\n       <use x=\"95.410156\" xlink:href=\"#DejaVuSans-48\"/>\r\n      </g>\r\n     </g>\r\n    </g>\r\n    <g id=\"xtick_2\">\r\n     <g id=\"line2d_3\">\r\n      <path clip-path=\"url(#p1127d8361c)\" d=\"M 108.730398 224.64 \r\nL 108.730398 7.2 \r\n\" style=\"fill:none;stroke:#b0b0b0;stroke-linecap:square;stroke-width:0.8;\"/>\r\n     </g>\r\n     <g id=\"line2d_4\">\r\n      <g>\r\n       <use style=\"stroke:#000000;stroke-width:0.8;\" x=\"108.730398\" xlink:href=\"#mbb3fba5126\" y=\"224.64\"/>\r\n      </g>\r\n     </g>\r\n     <g id=\"text_2\">\r\n      <!-- 2.5 -->\r\n      <g transform=\"translate(100.778835 239.238437)scale(0.1 -0.1)\">\r\n       <defs>\r\n        <path d=\"M 10.796875 72.90625 \r\nL 49.515625 72.90625 \r\nL 49.515625 64.59375 \r\nL 19.828125 64.59375 \r\nL 19.828125 46.734375 \r\nQ 21.96875 47.46875 24.109375 47.828125 \r\nQ 26.265625 48.1875 28.421875 48.1875 \r\nQ 40.625 48.1875 47.75 41.5 \r\nQ 54.890625 34.8125 54.890625 23.390625 \r\nQ 54.890625 11.625 47.5625 5.09375 \r\nQ 40.234375 -1.421875 26.90625 -1.421875 \r\nQ 22.3125 -1.421875 17.546875 -0.640625 \r\nQ 12.796875 0.140625 7.71875 1.703125 \r\nL 7.71875 11.625 \r\nQ 12.109375 9.234375 16.796875 8.0625 \r\nQ 21.484375 6.890625 26.703125 6.890625 \r\nQ 35.15625 6.890625 40.078125 11.328125 \r\nQ 45.015625 15.765625 45.015625 23.390625 \r\nQ 45.015625 31 40.078125 35.4375 \r\nQ 35.15625 39.890625 26.703125 39.890625 \r\nQ 22.75 39.890625 18.8125 39.015625 \r\nQ 14.890625 38.140625 10.796875 36.28125 \r\nz\r\n\" id=\"DejaVuSans-53\"/>\r\n       </defs>\r\n       <use xlink:href=\"#DejaVuSans-50\"/>\r\n       <use x=\"63.623047\" xlink:href=\"#DejaVuSans-46\"/>\r\n       <use x=\"95.410156\" xlink:href=\"#DejaVuSans-53\"/>\r\n      </g>\r\n     </g>\r\n    </g>\r\n    <g id=\"xtick_3\">\r\n     <g id=\"line2d_5\">\r\n      <path clip-path=\"url(#p1127d8361c)\" d=\"M 172.139489 224.64 \r\nL 172.139489 7.2 \r\n\" style=\"fill:none;stroke:#b0b0b0;stroke-linecap:square;stroke-width:0.8;\"/>\r\n     </g>\r\n     <g id=\"line2d_6\">\r\n      <g>\r\n       <use style=\"stroke:#000000;stroke-width:0.8;\" x=\"172.139489\" xlink:href=\"#mbb3fba5126\" y=\"224.64\"/>\r\n      </g>\r\n     </g>\r\n     <g id=\"text_3\">\r\n      <!-- 3.0 -->\r\n      <g transform=\"translate(164.187926 239.238437)scale(0.1 -0.1)\">\r\n       <defs>\r\n        <path d=\"M 40.578125 39.3125 \r\nQ 47.65625 37.796875 51.625 33 \r\nQ 55.609375 28.21875 55.609375 21.1875 \r\nQ 55.609375 10.40625 48.1875 4.484375 \r\nQ 40.765625 -1.421875 27.09375 -1.421875 \r\nQ 22.515625 -1.421875 17.65625 -0.515625 \r\nQ 12.796875 0.390625 7.625 2.203125 \r\nL 7.625 11.71875 \r\nQ 11.71875 9.328125 16.59375 8.109375 \r\nQ 21.484375 6.890625 26.8125 6.890625 \r\nQ 36.078125 6.890625 40.9375 10.546875 \r\nQ 45.796875 14.203125 45.796875 21.1875 \r\nQ 45.796875 27.640625 41.28125 31.265625 \r\nQ 36.765625 34.90625 28.71875 34.90625 \r\nL 20.21875 34.90625 \r\nL 20.21875 43.015625 \r\nL 29.109375 43.015625 \r\nQ 36.375 43.015625 40.234375 45.921875 \r\nQ 44.09375 48.828125 44.09375 54.296875 \r\nQ 44.09375 59.90625 40.109375 62.90625 \r\nQ 36.140625 65.921875 28.71875 65.921875 \r\nQ 24.65625 65.921875 20.015625 65.03125 \r\nQ 15.375 64.15625 9.8125 62.3125 \r\nL 9.8125 71.09375 \r\nQ 15.4375 72.65625 20.34375 73.4375 \r\nQ 25.25 74.21875 29.59375 74.21875 \r\nQ 40.828125 74.21875 47.359375 69.109375 \r\nQ 53.90625 64.015625 53.90625 55.328125 \r\nQ 53.90625 49.265625 50.4375 45.09375 \r\nQ 46.96875 40.921875 40.578125 39.3125 \r\nz\r\n\" id=\"DejaVuSans-51\"/>\r\n       </defs>\r\n       <use xlink:href=\"#DejaVuSans-51\"/>\r\n       <use x=\"63.623047\" xlink:href=\"#DejaVuSans-46\"/>\r\n       <use x=\"95.410156\" xlink:href=\"#DejaVuSans-48\"/>\r\n      </g>\r\n     </g>\r\n    </g>\r\n    <g id=\"xtick_4\">\r\n     <g id=\"line2d_7\">\r\n      <path clip-path=\"url(#p1127d8361c)\" d=\"M 235.54858 224.64 \r\nL 235.54858 7.2 \r\n\" style=\"fill:none;stroke:#b0b0b0;stroke-linecap:square;stroke-width:0.8;\"/>\r\n     </g>\r\n     <g id=\"line2d_8\">\r\n      <g>\r\n       <use style=\"stroke:#000000;stroke-width:0.8;\" x=\"235.54858\" xlink:href=\"#mbb3fba5126\" y=\"224.64\"/>\r\n      </g>\r\n     </g>\r\n     <g id=\"text_4\">\r\n      <!-- 3.5 -->\r\n      <g transform=\"translate(227.597017 239.238437)scale(0.1 -0.1)\">\r\n       <use xlink:href=\"#DejaVuSans-51\"/>\r\n       <use x=\"63.623047\" xlink:href=\"#DejaVuSans-46\"/>\r\n       <use x=\"95.410156\" xlink:href=\"#DejaVuSans-53\"/>\r\n      </g>\r\n     </g>\r\n    </g>\r\n    <g id=\"xtick_5\">\r\n     <g id=\"line2d_9\">\r\n      <path clip-path=\"url(#p1127d8361c)\" d=\"M 298.95767 224.64 \r\nL 298.95767 7.2 \r\n\" style=\"fill:none;stroke:#b0b0b0;stroke-linecap:square;stroke-width:0.8;\"/>\r\n     </g>\r\n     <g id=\"line2d_10\">\r\n      <g>\r\n       <use style=\"stroke:#000000;stroke-width:0.8;\" x=\"298.95767\" xlink:href=\"#mbb3fba5126\" y=\"224.64\"/>\r\n      </g>\r\n     </g>\r\n     <g id=\"text_5\">\r\n      <!-- 4.0 -->\r\n      <g transform=\"translate(291.006108 239.238437)scale(0.1 -0.1)\">\r\n       <defs>\r\n        <path d=\"M 37.796875 64.3125 \r\nL 12.890625 25.390625 \r\nL 37.796875 25.390625 \r\nz\r\nM 35.203125 72.90625 \r\nL 47.609375 72.90625 \r\nL 47.609375 25.390625 \r\nL 58.015625 25.390625 \r\nL 58.015625 17.1875 \r\nL 47.609375 17.1875 \r\nL 47.609375 0 \r\nL 37.796875 0 \r\nL 37.796875 17.1875 \r\nL 4.890625 17.1875 \r\nL 4.890625 26.703125 \r\nz\r\n\" id=\"DejaVuSans-52\"/>\r\n       </defs>\r\n       <use xlink:href=\"#DejaVuSans-52\"/>\r\n       <use x=\"63.623047\" xlink:href=\"#DejaVuSans-46\"/>\r\n       <use x=\"95.410156\" xlink:href=\"#DejaVuSans-48\"/>\r\n      </g>\r\n     </g>\r\n    </g>\r\n    <g id=\"xtick_6\">\r\n     <g id=\"line2d_11\">\r\n      <path clip-path=\"url(#p1127d8361c)\" d=\"M 362.366761 224.64 \r\nL 362.366761 7.2 \r\n\" style=\"fill:none;stroke:#b0b0b0;stroke-linecap:square;stroke-width:0.8;\"/>\r\n     </g>\r\n     <g id=\"line2d_12\">\r\n      <g>\r\n       <use style=\"stroke:#000000;stroke-width:0.8;\" x=\"362.366761\" xlink:href=\"#mbb3fba5126\" y=\"224.64\"/>\r\n      </g>\r\n     </g>\r\n     <g id=\"text_6\">\r\n      <!-- 4.5 -->\r\n      <g transform=\"translate(354.415199 239.238437)scale(0.1 -0.1)\">\r\n       <use xlink:href=\"#DejaVuSans-52\"/>\r\n       <use x=\"63.623047\" xlink:href=\"#DejaVuSans-46\"/>\r\n       <use x=\"95.410156\" xlink:href=\"#DejaVuSans-53\"/>\r\n      </g>\r\n     </g>\r\n    </g>\r\n   </g>\r\n   <g id=\"matplotlib.axis_2\">\r\n    <g id=\"ytick_1\">\r\n     <g id=\"line2d_13\">\r\n      <path clip-path=\"url(#p1127d8361c)\" d=\"M 30.103125 222.992727 \r\nL 364.903125 222.992727 \r\n\" style=\"fill:none;stroke:#b0b0b0;stroke-linecap:square;stroke-width:0.8;\"/>\r\n     </g>\r\n     <g id=\"line2d_14\">\r\n      <defs>\r\n       <path d=\"M 0 0 \r\nL -3.5 0 \r\n\" id=\"me68272b6ee\" style=\"stroke:#000000;stroke-width:0.8;\"/>\r\n      </defs>\r\n      <g>\r\n       <use style=\"stroke:#000000;stroke-width:0.8;\" x=\"30.103125\" xlink:href=\"#me68272b6ee\" y=\"222.992727\"/>\r\n      </g>\r\n     </g>\r\n     <g id=\"text_7\">\r\n      <!-- 0.0 -->\r\n      <g transform=\"translate(7.2 226.791946)scale(0.1 -0.1)\">\r\n       <use xlink:href=\"#DejaVuSans-48\"/>\r\n       <use x=\"63.623047\" xlink:href=\"#DejaVuSans-46\"/>\r\n       <use x=\"95.410156\" xlink:href=\"#DejaVuSans-48\"/>\r\n      </g>\r\n     </g>\r\n    </g>\r\n    <g id=\"ytick_2\">\r\n     <g id=\"line2d_15\">\r\n      <path clip-path=\"url(#p1127d8361c)\" d=\"M 30.103125 181.810909 \r\nL 364.903125 181.810909 \r\n\" style=\"fill:none;stroke:#b0b0b0;stroke-linecap:square;stroke-width:0.8;\"/>\r\n     </g>\r\n     <g id=\"line2d_16\">\r\n      <g>\r\n       <use style=\"stroke:#000000;stroke-width:0.8;\" x=\"30.103125\" xlink:href=\"#me68272b6ee\" y=\"181.810909\"/>\r\n      </g>\r\n     </g>\r\n     <g id=\"text_8\">\r\n      <!-- 0.5 -->\r\n      <g transform=\"translate(7.2 185.610128)scale(0.1 -0.1)\">\r\n       <use xlink:href=\"#DejaVuSans-48\"/>\r\n       <use x=\"63.623047\" xlink:href=\"#DejaVuSans-46\"/>\r\n       <use x=\"95.410156\" xlink:href=\"#DejaVuSans-53\"/>\r\n      </g>\r\n     </g>\r\n    </g>\r\n    <g id=\"ytick_3\">\r\n     <g id=\"line2d_17\">\r\n      <path clip-path=\"url(#p1127d8361c)\" d=\"M 30.103125 140.629091 \r\nL 364.903125 140.629091 \r\n\" style=\"fill:none;stroke:#b0b0b0;stroke-linecap:square;stroke-width:0.8;\"/>\r\n     </g>\r\n     <g id=\"line2d_18\">\r\n      <g>\r\n       <use style=\"stroke:#000000;stroke-width:0.8;\" x=\"30.103125\" xlink:href=\"#me68272b6ee\" y=\"140.629091\"/>\r\n      </g>\r\n     </g>\r\n     <g id=\"text_9\">\r\n      <!-- 1.0 -->\r\n      <g transform=\"translate(7.2 144.42831)scale(0.1 -0.1)\">\r\n       <defs>\r\n        <path d=\"M 12.40625 8.296875 \r\nL 28.515625 8.296875 \r\nL 28.515625 63.921875 \r\nL 10.984375 60.40625 \r\nL 10.984375 69.390625 \r\nL 28.421875 72.90625 \r\nL 38.28125 72.90625 \r\nL 38.28125 8.296875 \r\nL 54.390625 8.296875 \r\nL 54.390625 0 \r\nL 12.40625 0 \r\nz\r\n\" id=\"DejaVuSans-49\"/>\r\n       </defs>\r\n       <use xlink:href=\"#DejaVuSans-49\"/>\r\n       <use x=\"63.623047\" xlink:href=\"#DejaVuSans-46\"/>\r\n       <use x=\"95.410156\" xlink:href=\"#DejaVuSans-48\"/>\r\n      </g>\r\n     </g>\r\n    </g>\r\n    <g id=\"ytick_4\">\r\n     <g id=\"line2d_19\">\r\n      <path clip-path=\"url(#p1127d8361c)\" d=\"M 30.103125 99.447273 \r\nL 364.903125 99.447273 \r\n\" style=\"fill:none;stroke:#b0b0b0;stroke-linecap:square;stroke-width:0.8;\"/>\r\n     </g>\r\n     <g id=\"line2d_20\">\r\n      <g>\r\n       <use style=\"stroke:#000000;stroke-width:0.8;\" x=\"30.103125\" xlink:href=\"#me68272b6ee\" y=\"99.447273\"/>\r\n      </g>\r\n     </g>\r\n     <g id=\"text_10\">\r\n      <!-- 1.5 -->\r\n      <g transform=\"translate(7.2 103.246491)scale(0.1 -0.1)\">\r\n       <use xlink:href=\"#DejaVuSans-49\"/>\r\n       <use x=\"63.623047\" xlink:href=\"#DejaVuSans-46\"/>\r\n       <use x=\"95.410156\" xlink:href=\"#DejaVuSans-53\"/>\r\n      </g>\r\n     </g>\r\n    </g>\r\n    <g id=\"ytick_5\">\r\n     <g id=\"line2d_21\">\r\n      <path clip-path=\"url(#p1127d8361c)\" d=\"M 30.103125 58.265455 \r\nL 364.903125 58.265455 \r\n\" style=\"fill:none;stroke:#b0b0b0;stroke-linecap:square;stroke-width:0.8;\"/>\r\n     </g>\r\n     <g id=\"line2d_22\">\r\n      <g>\r\n       <use style=\"stroke:#000000;stroke-width:0.8;\" x=\"30.103125\" xlink:href=\"#me68272b6ee\" y=\"58.265455\"/>\r\n      </g>\r\n     </g>\r\n     <g id=\"text_11\">\r\n      <!-- 2.0 -->\r\n      <g transform=\"translate(7.2 62.064673)scale(0.1 -0.1)\">\r\n       <use xlink:href=\"#DejaVuSans-50\"/>\r\n       <use x=\"63.623047\" xlink:href=\"#DejaVuSans-46\"/>\r\n       <use x=\"95.410156\" xlink:href=\"#DejaVuSans-48\"/>\r\n      </g>\r\n     </g>\r\n    </g>\r\n    <g id=\"ytick_6\">\r\n     <g id=\"line2d_23\">\r\n      <path clip-path=\"url(#p1127d8361c)\" d=\"M 30.103125 17.083636 \r\nL 364.903125 17.083636 \r\n\" style=\"fill:none;stroke:#b0b0b0;stroke-linecap:square;stroke-width:0.8;\"/>\r\n     </g>\r\n     <g id=\"line2d_24\">\r\n      <g>\r\n       <use style=\"stroke:#000000;stroke-width:0.8;\" x=\"30.103125\" xlink:href=\"#me68272b6ee\" y=\"17.083636\"/>\r\n      </g>\r\n     </g>\r\n     <g id=\"text_12\">\r\n      <!-- 2.5 -->\r\n      <g transform=\"translate(7.2 20.882855)scale(0.1 -0.1)\">\r\n       <use xlink:href=\"#DejaVuSans-50\"/>\r\n       <use x=\"63.623047\" xlink:href=\"#DejaVuSans-46\"/>\r\n       <use x=\"95.410156\" xlink:href=\"#DejaVuSans-53\"/>\r\n      </g>\r\n     </g>\r\n    </g>\r\n   </g>\r\n   <g id=\"patch_3\">\r\n    <path d=\"M 30.103125 224.64 \r\nL 30.103125 7.2 \r\n\" style=\"fill:none;stroke:#000000;stroke-linecap:square;stroke-linejoin:miter;stroke-width:0.8;\"/>\r\n   </g>\r\n   <g id=\"patch_4\">\r\n    <path d=\"M 364.903125 224.64 \r\nL 364.903125 7.2 \r\n\" style=\"fill:none;stroke:#000000;stroke-linecap:square;stroke-linejoin:miter;stroke-width:0.8;\"/>\r\n   </g>\r\n   <g id=\"patch_5\">\r\n    <path d=\"M 30.103125 224.64 \r\nL 364.903125 224.64 \r\n\" style=\"fill:none;stroke:#000000;stroke-linecap:square;stroke-linejoin:miter;stroke-width:0.8;\"/>\r\n   </g>\r\n   <g id=\"patch_6\">\r\n    <path d=\"M 30.103125 7.2 \r\nL 364.903125 7.2 \r\n\" style=\"fill:none;stroke:#000000;stroke-linecap:square;stroke-linejoin:miter;stroke-width:0.8;\"/>\r\n   </g>\r\n  </g>\r\n </g>\r\n <defs>\r\n  <clipPath id=\"p1127d8361c\">\r\n   <rect height=\"217.44\" width=\"334.8\" x=\"30.103125\" y=\"7.2\"/>\r\n  </clipPath>\r\n </defs>\r\n</svg>\r\n",
      "image/png": "[encoded data removed]"
     },
     "metadata": {
      "needs_background": "light"
     }
    }
   ],
   "source": [
    "import matplotlib.pyplot as plt\n",
    "from sklearn.cluster import KMeans\n",
    "from sklearn.datasets import load_iris\n",
    "\n",
    "#Load the iris dataset and set an instance variable \n",
    "iris = load_iris()\n",
    "dataset = iris.data\n",
    "\n",
    "# Create a K-Means instance\n",
    "kmclusters = KMeans(n_clusters=3, random_state=0)\n",
    "\n",
    "# Make predictions on and fit the dataset (compute cluster centers, and predict cluster index for each sample)\n",
    "y_kmcluster = kmclusters.fit_predict(dataset)\n",
    "\n",
    "# Plot the K-means clusters in a scatter plot\n",
    "plt.scatter(dataset[y_kmcluster == 0, 1], dataset[y_kmcluster == 0, 3], \n",
    "            c='yellow', edgecolor='black', label='Yellow cluster')\n",
    "\n",
    "plt.scatter(dataset[y_kmcluster == 1, 1], dataset[y_kmcluster == 1, 3], \n",
    "            c='blue', edgecolor='black', label='Blue cluster')\n",
    "\n",
    "plt.scatter(dataset[y_kmcluster == 2, 1], dataset[y_kmcluster == 2, 3], \n",
    "            c='green', edgecolor='black', label='Green cluster')\n",
    "\n",
    "# Show the scatterpoints with a grid\n",
    "plt.grid()\n",
    "plt.show()\n"
   ]
  },
  {
   "source": [
    "***\n",
    "# References\n",
    "\n",
    "[1] Algorithms, Blockchain and Cloud; Newton Iterative Sqrt Method: https://helloacm.com/newton-iterative-sqrt-method/\n",
    "\n",
    "[2] Chi-squared test; Example chi-squared test for categorical data: https://en.wikipedia.org/wiki/Chi-squared_test#Example_chi-squared_test_for_categorical_data\n",
    "\n",
    "[3] What is the difference between population and sample?; Sample vs. population: https://www.statsandr.com/blog/what-is-the-difference-between-population-and-sample/\n",
    "\n",
    "[4] Bessel's Correction; Wikipedia: https://en.wikipedia.org/wiki/Bessel%27s_correction\n",
    "\n",
    "***"
   ],
   "cell_type": "code",
   "metadata": {},
   "execution_count": null,
   "outputs": []
  },
  {
   "cell_type": "code",
   "execution_count": null,
   "metadata": {},
   "outputs": [],
   "source": []
  }
 ],
 "metadata": {
  "kernelspec": {
   "display_name": "Python 3",
   "language": "python",
   "name": "python3"
  },
  "language_info": {
   "codemirror_mode": {
    "name": "ipython",
    "version": 3
   },
   "file_extension": ".py",
   "mimetype": "text/x-python",
   "name": "python",
   "nbconvert_exporter": "python",
   "pygments_lexer": "ipython3",
   "version": "3.8.5-final"
  }
 },
 "nbformat": 4,
 "nbformat_minor": 4
}