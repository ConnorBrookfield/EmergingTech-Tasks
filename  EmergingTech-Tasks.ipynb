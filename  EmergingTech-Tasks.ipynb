{
 "cells": [
  {
   "cell_type": "markdown",
   "metadata": {},
   "source": [
    "***\n",
    "# Task 1: Square root of 2 \n",
    "***\n",
    "***Author*** - *Connor Brookfield (g00361129@gmit.ie)*\n",
    "\n",
    "This is my solution to the 1st Task assignment: Create a function to calculate the square root of 2. "
   ]
  },
  {
   "cell_type": "markdown",
   "metadata": {},
   "source": [
    "We can calculate the Square Root of a number using Newton's method for iterative approximation [1]. \n",
    "To find the square root $z$ of a number $x$, by iterating using the equation below. \n",
    "\n",
    "$$ z = z - \\frac{z^2 - x}{2z}$$"
   ]
  },
  {
   "cell_type": "code",
   "execution_count": 1,
   "metadata": {},
   "outputs": [],
   "source": [
    "def sqrt2():\n",
    "    '''\n",
    "    Function to calculate the square root of 2\n",
    "    '''\n",
    "    # Initial Square Root guess\n",
    "    X = 2\n",
    "    z = X / 2\n",
    "    \n",
    "    # Iterate to 100 decimal places\n",
    "    while abs(X - (z * z)) > 0.000001:\n",
    "        z -= (z*z - X) / (2 * z)\n",
    "    # Return the Approximate Square Root \n",
    "    return print(\"%.100f\" % z)"
   ]
  },
  {
   "cell_type": "code",
   "execution_count": 2,
   "metadata": {
    "scrolled": true
   },
   "outputs": [
    {
     "name": "stdout",
     "output_type": "stream",
     "text": [
      "1.4142135623746898698271934335934929549694061279296875000000000000000000000000000000000000000000000000\n"
     ]
    }
   ],
   "source": [
    "sqrt2()"
   ]
  },
  {
   "cell_type": "markdown",
   "metadata": {},
   "source": [
    "***\n",
    "# Task 2: Chi Squared Test\n",
    "***\n",
    "***Author*** - *Connor Brookfield (g00361129@gmit.ie)*\n",
    "\n",
    "This is my solution to the 2nd Task assignment: Verify (*using scipy.stats*) \n",
    "the chi-squared value, and p-value of the table below, so that it matches ***Chi-squared value = 24.6***; \n",
    "\n",
    "|                | A | B | C | D | Total |\n",
    "| :------------- | :----------: | :-----------: | :-------------: | :----------: | :-----------: |\n",
    "|  White Collar  | 90 | 60 | 104 | 95 | 349 |\n",
    "|  Blue Collar   | 30 | 50 | 51 | 20 | 151 |\n",
    "|  No Collar     | 30 | 40 | 45 | 35 | 150 |\n",
    "|      **Total** | **150** | **150** | **200** | **150** | **650** |\n",
    "                       \n",
    "                                                       Figure 1: [2]\n"
   ]
  },
  {
   "cell_type": "code",
   "execution_count": 17,
   "metadata": {},
   "outputs": [
    {
     "name": "stdout",
     "output_type": "stream",
     "text": [
      "Chi Squared value =  24.5712028585826\n",
      "P value =  0.0004098425861096696\n",
      "Expected Table Frequencies =  [[ 80.53846154  80.53846154 107.38461538  80.53846154]\n",
      " [ 34.84615385  34.84615385  46.46153846  34.84615385]\n",
      " [ 34.61538462  34.61538462  46.15384615  34.61538462]]\n"
     ]
    }
   ],
   "source": [
    "from scipy.stats import chi2_contingency\n",
    "chiSquaredValue, pValue, dof, expectedFreqs = chi2_contingency([[90,60,104,95],[30,50,51,20],[30,40,45,35]])\n",
    "\n",
    "print(\"Chi Squared value = \", chiSquaredValue)\n",
    "print(\"P value = \", pValue)\n",
    "print(\"Expected Table Frequencies = \", expectedFreqs)"
   ]
  },
  {
   "cell_type": "markdown",
   "metadata": {},
   "source": [
    "## Evaluation of the above code\n",
    "In the code cell above, I used the ```chi2_contingency``` function from *scipt.stats*, and input the table data as a 2D array, to calculate the Chi Squared value (***24.5712028585826***), the P value (***0.0004098425861096696***) and the expected frequencies of the table.\n",
    "\n",
    "The table of expected frequencies, is calculated using the total from a row, dividing it by the overall total of people, and multiplying it by the total of its relative collumn. \n",
    "\n",
    "## Example\n",
    "To get the expected frequency of the value of 90 (```row = \"White Collar\", collumn = \"A\"```), we must;\n",
    "    1. Get the Total value of the White Collar row from the table which is 349.\n",
    "    2. Get the Total value of all the rows, which is 650.\n",
    "    3. Divide the White Collar Total by the Total value of rows: 349/650\n",
    "    4. Multiply the value from Step 3 by the total value of the collumn \"A\" which is 150: 349/650 * 150 = 80.53846154\n",
    "    \n",
    "## Conclusion\n",
    "To conclude this task, I would like to point out that the values from the Python script, and the value given from the Task Assignment document are the same."
   ]
  },
  {
   "cell_type": "markdown",
   "metadata": {},
   "source": [
    "***\n",
    "# Task 3: Standard Deviation: The difference between the STDEV.S and STDEV.P functions in Excel\n",
    "***\n",
    "***Author*** - *Connor Brookfield (g00361129@gmit.ie)*\n",
    "\n",
    "This is my solution to the 3rd Task assignment: \n",
    "*Outline the differences between the excel functions; STDEV.S and STDEV.P. Demonstrate that the function STDEV.S provides a better estimate calculation for the standard deviation of a population when performed on a sample.*\n",
    "\n",
    "## STDEV.S vs STDEV.P\n",
    "STDEV.S is the excel function for getting the Standard deviation using a sample (subset) of a population, while STDEV.P is the function used for getting the Standard deviation using the whole population [3].\n",
    "\n",
    "Using the sample standard deviation formula to get the standard deviation of a population is different to using the population standard deviation formula  because it uses Bessel's correction to correct the bias when estimating the population variance [4]."
   ]
  },
  {
   "cell_type": "code",
   "execution_count": 16,
   "metadata": {},
   "outputs": [
    {
     "name": "stdout",
     "output_type": "stream",
     "text": [
      "STDEV.S (using sample) = 18.627041\n",
      "STDEV.P (using sample) = 17.004084\n",
      "Numpy (using population) = 18.433936\n"
     ]
    }
   ],
   "source": [
    "import numpy as np\n",
    "\n",
    "#Variables + Data\n",
    "population = [3,1,24,56,34,32,6,12,43,2]\n",
    "sample = [3,1,34,6,43,2]\n",
    "\n",
    "#STDEV.S, using a sample of the population data\n",
    "stdevS = np.sqrt(np.sum((sample - np.mean(sample)) ** 2)/(len(sample)-1))\n",
    "#STDEV.P, using a sample of the population data\n",
    "stdevP = np.sqrt(np.sum((sample - np.mean(sample)) ** 2)/len(sample))\n",
    "#Numpy standard deviation using all the population data\n",
    "numpyStd =np.std(population)\n",
    "\n",
    "#Outputting results\n",
    "print(\"STDEV.S (using sample) = %f\" % stdevS)\n",
    "print(\"STDEV.P (using sample) = %f\" % stdevP)\n",
    "print(\"Numpy (using population) = %f\" % numpyStd)"
   ]
  },
  {
   "cell_type": "markdown",
   "metadata": {},
   "source": [
    "## Evaluation\n",
    "As we can see from the above code, using the sample standard deviation formula provides a better estimate for the standard deviation when performed on a sample rather than the population standard deviation formula using sample data. This proves that Bessel's correction/bias shift makes the formula for calculating the standard deviation of a sample more accurate than the standard deviation of a population for a sample."
   ]
  },
  {
   "cell_type": "markdown",
   "metadata": {},
   "source": [
    "***\n",
    "# Task 4: Use scikit-learn to apply k-means clustering to Fisher’s famous Iris data set\n",
    "***\n",
    "***Author*** - *Connor Brookfield (g00361129@gmit.ie)*\n",
    "\n",
    "This is my solution to the 3rd Task assignment: \n",
    "*Use ```scikit-learn``` to apply k-means clustering to Fisher’s famous Iris data set.  You will easily obtain a copy of the dataset online.  Explain in a Markdown cell how your code works and how accurate it might be, and then explain how your model could be used to make predictions of species of iris.*"
   ]
  },
  {
   "cell_type": "code",
   "execution_count": 2,
   "metadata": {},
   "outputs": [],
   "source": [
    "from sklearn.cluster import KMeans\n",
    "from sklearn.datasets import load_iris\n",
    "\n",
    "#Load the iris dataset and set an instance variable \n",
    "iris = load_iris()\n",
    "X = iris.data\n",
    "y = iris.target"
   ]
  },
  {
   "cell_type": "markdown",
   "metadata": {},
   "source": [
    "***\n",
    "# References\n",
    "\n",
    "[1] Algorithms, Blockchain and Cloud; Newton Iterative Sqrt Method: https://helloacm.com/newton-iterative-sqrt-method/\n",
    "\n",
    "[2] Chi-squared test; Example chi-squared test for categorical data: https://en.wikipedia.org/wiki/Chi-squared_test#Example_chi-squared_test_for_categorical_data\n",
    "\n",
    "[3] What is the difference between population and sample?; Sample vs. population: https://www.statsandr.com/blog/what-is-the-difference-between-population-and-sample/\n",
    "\n",
    "[4] Bessel's Correction; Wikipedia: https://en.wikipedia.org/wiki/Bessel%27s_correction\n",
    "\n",
    "***"
   ]
  }
 ],
 "metadata": {
  "kernelspec": {
   "display_name": "Python 3",
   "language": "python",
   "name": "python3"
  },
  "language_info": {
   "codemirror_mode": {
    "name": "ipython",
    "version": 3
   },
   "file_extension": ".py",
   "mimetype": "text/x-python",
   "name": "python",
   "nbconvert_exporter": "python",
   "pygments_lexer": "ipython3",
   "version": "3.8.3"
  }
 },
 "nbformat": 4,
 "nbformat_minor": 4
}
