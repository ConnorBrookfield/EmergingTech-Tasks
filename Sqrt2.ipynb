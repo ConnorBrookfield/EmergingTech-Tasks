{
 "cells": [
  {
   "cell_type": "markdown",
   "metadata": {},
   "source": [
    "# Square root of 2 \n",
    "This is my solution to the 1st Task assignment: Create a function to calculate the square root of 2. \n",
    "\n",
    "Author - Connor Brookfield (g00361129@gmit.ie)\n",
    "***"
   ]
  },
  {
   "cell_type": "markdown",
   "metadata": {},
   "source": [
    "We can calculate the Square Root of a number using Newton's method for iterative approximation [1, 2]. \n",
    "To find the square root $z$ of a number $x$, by iterating using the equation below. \n",
    "\n",
    "$$ z = z - \\frac{z^2 - x}{2z}$$\n",
    "\n",
    "[1] Algorithms, Blockchain and Cloud; Newton Iterative Sqrt Method: https://helloacm.com/newton-iterative-sqrt-method/"
   ]
  },
  {
   "cell_type": "code",
   "execution_count": 46,
   "metadata": {},
   "outputs": [],
   "source": [
    "def sqrt2():\n",
    "    '''\n",
    "    Function to calculate the square root of 2\n",
    "    '''\n",
    "    # Initial Square Root guess\n",
    "    X = 2\n",
    "    z = X / 2\n",
    "    \n",
    "    # Iterate to 100 decimal places\n",
    "    while abs(X - (z * z)) > 0.000001:\n",
    "        z -= (z*z - X) / (2 * z)\n",
    "    # Return the Approximate Square Root \n",
    "    return z"
   ]
  },
  {
   "cell_type": "code",
   "execution_count": 12,
   "metadata": {},
   "outputs": [
    {
     "data": {
      "text/plain": [
       "1.4142135623746899"
      ]
     },
     "execution_count": 12,
     "metadata": {},
     "output_type": "execute_result"
    }
   ],
   "source": [
    "sqrt2()"
   ]
  }
 ],
 "metadata": {
  "kernelspec": {
   "display_name": "Python 3",
   "language": "python",
   "name": "python3"
  },
  "language_info": {
   "codemirror_mode": {
    "name": "ipython",
    "version": 3
   },
   "file_extension": ".py",
   "mimetype": "text/x-python",
   "name": "python",
   "nbconvert_exporter": "python",
   "pygments_lexer": "ipython3",
   "version": "3.8.3"
  }
 },
 "nbformat": 4,
 "nbformat_minor": 4
}
